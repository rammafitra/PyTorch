{
  "nbformat": 4,
  "nbformat_minor": 0,
  "metadata": {
    "colab": {
      "name": "PyTorch-2.ipynb",
      "provenance": [],
      "collapsed_sections": []
    },
    "kernelspec": {
      "name": "python3",
      "display_name": "Python 3"
    }
  },
  "cells": [
    {
      "cell_type": "code",
      "metadata": {
        "id": "ou58t8PqA8s4"
      },
      "source": [
        "from __future__ import print_function\n",
        "import torch"
      ],
      "execution_count": 40,
      "outputs": []
    },
    {
      "cell_type": "code",
      "metadata": {
        "id": "4PJcK2RWBD_l"
      },
      "source": [
        "# buat dataset\n",
        "x = torch.tensor([5,5])\n",
        "y = torch.tensor([10,20])\n"
      ],
      "execution_count": 2,
      "outputs": []
    },
    {
      "cell_type": "code",
      "metadata": {
        "colab": {
          "base_uri": "https://localhost:8080/"
        },
        "id": "Rj-5_0nABECR",
        "outputId": "2c371315-b825-4768-95f1-8fb657e38f70"
      },
      "source": [
        "# tampilkan data x\n",
        "x"
      ],
      "execution_count": 3,
      "outputs": [
        {
          "output_type": "execute_result",
          "data": {
            "text/plain": [
              "tensor([5, 5])"
            ]
          },
          "metadata": {
            "tags": []
          },
          "execution_count": 3
        }
      ]
    },
    {
      "cell_type": "code",
      "metadata": {
        "colab": {
          "base_uri": "https://localhost:8080/"
        },
        "id": "Zg7cp_XTBVvz",
        "outputId": "30e979d5-495e-4bf6-a560-207b97e5b5d6"
      },
      "source": [
        "# tampilkan data y\n",
        "y "
      ],
      "execution_count": 4,
      "outputs": [
        {
          "output_type": "execute_result",
          "data": {
            "text/plain": [
              "tensor([10, 20])"
            ]
          },
          "metadata": {
            "tags": []
          },
          "execution_count": 4
        }
      ]
    },
    {
      "cell_type": "code",
      "metadata": {
        "colab": {
          "base_uri": "https://localhost:8080/"
        },
        "id": "X68c1hXvBVyh",
        "outputId": "0ae28d0a-78ba-4a02-8745-67dcce907999"
      },
      "source": [
        "# jumlahkan kedua data x dan y\n",
        "Add = torch.add(x,y)\n",
        "print(Add)"
      ],
      "execution_count": 6,
      "outputs": [
        {
          "output_type": "stream",
          "text": [
            "tensor([15, 25])\n"
          ],
          "name": "stdout"
        }
      ]
    },
    {
      "cell_type": "code",
      "metadata": {
        "colab": {
          "base_uri": "https://localhost:8080/"
        },
        "id": "rC6ZpYu_BV1a",
        "outputId": "55a508f5-4fbd-4f27-97ee-886cb40a40bf"
      },
      "source": [
        "# penjumlahan dengan cara lain dapat dilakukan sbg:\n",
        "Add = x + y\n",
        "print(Add)"
      ],
      "execution_count": 7,
      "outputs": [
        {
          "output_type": "stream",
          "text": [
            "tensor([15, 25])\n"
          ],
          "name": "stdout"
        }
      ]
    },
    {
      "cell_type": "code",
      "metadata": {
        "colab": {
          "base_uri": "https://localhost:8080/"
        },
        "id": "2b2AZDgOCL1b",
        "outputId": "ef367287-2496-4757-c220-5e06bb7a272f"
      },
      "source": [
        "# membuat output tensor sebagai argumen\n",
        "# misalkan kita mempunyai tensor \n",
        "x = torch.tensor([[5,5],[5,5]])         # membuat tensor 2D\n",
        "y = torch.tensor([[10,10],[20,20]])     # membuat tensor 2D\n",
        "\n",
        "result = torch.empty([2,2])\n",
        "ADD = torch.add(x,y, out = result)\n",
        "print(ADD)"
      ],
      "execution_count": 30,
      "outputs": [
        {
          "output_type": "stream",
          "text": [
            "tensor([[15., 15.],\n",
            "        [25., 25.]])\n"
          ],
          "name": "stdout"
        }
      ]
    },
    {
      "cell_type": "code",
      "metadata": {
        "id": "XygBxHvND0od"
      },
      "source": [
        "# tambahan -> teknik penjumlahan pada tensor"
      ],
      "execution_count": 22,
      "outputs": []
    },
    {
      "cell_type": "code",
      "metadata": {
        "colab": {
          "base_uri": "https://localhost:8080/"
        },
        "id": "KYkmqkKVDFNU",
        "outputId": "bf2d181a-9cb7-4274-d758-27038becd4fb"
      },
      "source": [
        "y.add_(x)\n",
        "print(y)"
      ],
      "execution_count": 29,
      "outputs": [
        {
          "output_type": "stream",
          "text": [
            "tensor([[15, 15],\n",
            "        [25, 25]])\n"
          ],
          "name": "stdout"
        }
      ]
    },
    {
      "cell_type": "code",
      "metadata": {
        "colab": {
          "base_uri": "https://localhost:8080/"
        },
        "id": "661cNHwrDFQw",
        "outputId": "e7febcf2-bdad-416c-f4fb-f3ec9c526169"
      },
      "source": [
        "x.add_(y)\n",
        "print(x)"
      ],
      "execution_count": 31,
      "outputs": [
        {
          "output_type": "stream",
          "text": [
            "tensor([[15, 15],\n",
            "        [25, 25]])\n"
          ],
          "name": "stdout"
        }
      ]
    },
    {
      "cell_type": "code",
      "metadata": {
        "colab": {
          "base_uri": "https://localhost:8080/"
        },
        "id": "dy2E99X-DFTL",
        "outputId": "9a184cb2-61b0-49be-d97c-b9dd2bb0ce79"
      },
      "source": [
        "# You can use standard NumPy-like indexing with all bells and whistles!\n",
        "print(x[:,0]) # mengambil semua angka pada kolom pertama"
      ],
      "execution_count": 34,
      "outputs": [
        {
          "output_type": "stream",
          "text": [
            "tensor([15, 25])\n"
          ],
          "name": "stdout"
        }
      ]
    },
    {
      "cell_type": "code",
      "metadata": {
        "colab": {
          "base_uri": "https://localhost:8080/"
        },
        "id": "qM2iUrVaEYPT",
        "outputId": "2956eca3-25e2-44dd-d205-3f7338affc3a"
      },
      "source": [
        "# You can use standard NumPy-like indexing with all bells and whistles!\n",
        "print(x[:,1]) # mengambil semua angka pada kolom pertama"
      ],
      "execution_count": 35,
      "outputs": [
        {
          "output_type": "stream",
          "text": [
            "tensor([15, 25])\n"
          ],
          "name": "stdout"
        }
      ]
    },
    {
      "cell_type": "code",
      "metadata": {
        "colab": {
          "base_uri": "https://localhost:8080/"
        },
        "id": "0SShpdqfEnfk",
        "outputId": "e79e90d7-3fe1-4032-edbe-c3e249271cd3"
      },
      "source": [
        "# You can use standard NumPy-like indexing with all bells and whistles!\n",
        "print(x[0,:]) # mengambil semua angka pada baris pertama"
      ],
      "execution_count": 36,
      "outputs": [
        {
          "output_type": "stream",
          "text": [
            "tensor([15, 15])\n"
          ],
          "name": "stdout"
        }
      ]
    },
    {
      "cell_type": "code",
      "metadata": {
        "colab": {
          "base_uri": "https://localhost:8080/"
        },
        "id": "mMnA2rQOE21x",
        "outputId": "52f61673-b4b0-42fe-dba9-d931b2e91bb7"
      },
      "source": [
        "# You can use standard NumPy-like indexing with all bells and whistles!\n",
        "print(x[1,:]) # mengambil semua angka pada baris kedua"
      ],
      "execution_count": 39,
      "outputs": [
        {
          "output_type": "stream",
          "text": [
            "tensor([25, 25])\n"
          ],
          "name": "stdout"
        }
      ]
    },
    {
      "cell_type": "code",
      "metadata": {
        "id": "jDQ2gsOJFGpA"
      },
      "source": [
        "# Resizing: If you want to resize/reshape tensor, you can use torch.view:\n",
        "x = torch.rand(4,4)\n",
        "y = x.view(16)\n",
        "z = x.view(-1,8)\n"
      ],
      "execution_count": 44,
      "outputs": []
    },
    {
      "cell_type": "code",
      "metadata": {
        "colab": {
          "base_uri": "https://localhost:8080/"
        },
        "id": "XCzT-XCiFGxr",
        "outputId": "5334b268-136d-4702-f226-437f72d1bc74"
      },
      "source": [
        "# tampilkan x\n",
        "x"
      ],
      "execution_count": 45,
      "outputs": [
        {
          "output_type": "execute_result",
          "data": {
            "text/plain": [
              "tensor([[0.4008, 0.8621, 0.5250, 0.1043],\n",
              "        [0.6517, 0.8874, 0.4473, 0.3673],\n",
              "        [0.3289, 0.9855, 0.8306, 0.4093],\n",
              "        [0.6519, 0.9419, 0.0055, 0.8807]])"
            ]
          },
          "metadata": {
            "tags": []
          },
          "execution_count": 45
        }
      ]
    },
    {
      "cell_type": "code",
      "metadata": {
        "colab": {
          "base_uri": "https://localhost:8080/"
        },
        "id": "SigNi8AFFG0q",
        "outputId": "0384689a-c029-4c8c-b2a1-16ee90b30c1d"
      },
      "source": [
        "# tampilkan y\n",
        "y"
      ],
      "execution_count": 46,
      "outputs": [
        {
          "output_type": "execute_result",
          "data": {
            "text/plain": [
              "tensor([0.4008, 0.8621, 0.5250, 0.1043, 0.6517, 0.8874, 0.4473, 0.3673, 0.3289,\n",
              "        0.9855, 0.8306, 0.4093, 0.6519, 0.9419, 0.0055, 0.8807])"
            ]
          },
          "metadata": {
            "tags": []
          },
          "execution_count": 46
        }
      ]
    },
    {
      "cell_type": "code",
      "metadata": {
        "colab": {
          "base_uri": "https://localhost:8080/"
        },
        "id": "xZbSs1SaFG3a",
        "outputId": "6839c4c9-c635-410f-c809-afd828429977"
      },
      "source": [
        "# tampilkan z\n",
        "z"
      ],
      "execution_count": 47,
      "outputs": [
        {
          "output_type": "execute_result",
          "data": {
            "text/plain": [
              "tensor([[0.4008, 0.8621, 0.5250, 0.1043, 0.6517, 0.8874, 0.4473, 0.3673],\n",
              "        [0.3289, 0.9855, 0.8306, 0.4093, 0.6519, 0.9419, 0.0055, 0.8807]])"
            ]
          },
          "metadata": {
            "tags": []
          },
          "execution_count": 47
        }
      ]
    },
    {
      "cell_type": "code",
      "metadata": {
        "colab": {
          "base_uri": "https://localhost:8080/"
        },
        "id": "cQ5kCcVfFG6Q",
        "outputId": "01b4fd14-5493-4107-fd4a-a44f4919ba7e"
      },
      "source": [
        "print(x.size(), y.size(), z.size())"
      ],
      "execution_count": 48,
      "outputs": [
        {
          "output_type": "stream",
          "text": [
            "torch.Size([4, 4]) torch.Size([16]) torch.Size([2, 8])\n"
          ],
          "name": "stdout"
        }
      ]
    },
    {
      "cell_type": "code",
      "metadata": {
        "colab": {
          "base_uri": "https://localhost:8080/"
        },
        "id": "YYCNuwz7FG_q",
        "outputId": "01967aa6-f2ec-4363-e541-134baba2243a"
      },
      "source": [
        "# if you have a one element tensor, use .item() to get the value as a Python number\n",
        "x = torch.randn(1)\n",
        "print(x)\n",
        "print(x.item())"
      ],
      "execution_count": 53,
      "outputs": [
        {
          "output_type": "stream",
          "text": [
            "tensor([-0.2509])\n",
            "-0.2509113848209381\n"
          ],
          "name": "stdout"
        }
      ]
    },
    {
      "cell_type": "code",
      "metadata": {
        "id": "Ub11kD7kFHCS"
      },
      "source": [
        ""
      ],
      "execution_count": null,
      "outputs": []
    }
  ]
}
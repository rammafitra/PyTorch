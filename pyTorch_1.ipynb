{
  "nbformat": 4,
  "nbformat_minor": 0,
  "metadata": {
    "colab": {
      "name": "pyTorch-1.ipynb",
      "provenance": []
    },
    "kernelspec": {
      "name": "python3",
      "display_name": "Python 3"
    },
    "accelerator": "GPU"
  },
  "cells": [
    {
      "cell_type": "code",
      "metadata": {
        "colab": {
          "base_uri": "https://localhost:8080/"
        },
        "id": "rfbLkNaz7LtM",
        "outputId": "a407fd28-a656-4bad-eef2-af86062ae91f"
      },
      "source": [
        "from __future__ import print_function\n",
        "import torch"
      ],
      "execution_count": 2,
      "outputs": [
        {
          "output_type": "execute_result",
          "data": {
            "text/plain": [
              "tensor([[1.3105e-35, 0.0000e+00, 3.3631e-44],\n",
              "        [0.0000e+00,        nan, 6.4460e-44],\n",
              "        [1.1578e+27, 1.1362e+30, 7.1547e+22],\n",
              "        [4.5828e+30, 1.2121e+04, 7.1846e+22],\n",
              "        [9.2198e-39, 7.0374e+22, 0.0000e+00]])"
            ]
          },
          "metadata": {
            "tags": []
          },
          "execution_count": 2
        }
      ]
    },
    {
      "cell_type": "code",
      "metadata": {
        "colab": {
          "base_uri": "https://localhost:8080/"
        },
        "id": "vNo8MYzz8Ngj",
        "outputId": "a77cd794-1de7-4132-ffff-f32d54b5b02b"
      },
      "source": [
        "x = torch.empty(5,3)\n",
        "x"
      ],
      "execution_count": 3,
      "outputs": [
        {
          "output_type": "execute_result",
          "data": {
            "text/plain": [
              "tensor([[1.3105e-35, 0.0000e+00, 1.5975e-43],\n",
              "        [1.3873e-43, 1.4574e-43, 6.4460e-44],\n",
              "        [1.4153e-43, 1.5274e-43, 1.5695e-43],\n",
              "        [1.6255e-43, 1.6956e-43, 1.5274e-43],\n",
              "        [1.5695e-43, 2.2856e+20, 5.0948e-14]])"
            ]
          },
          "metadata": {
            "tags": []
          },
          "execution_count": 3
        }
      ]
    },
    {
      "cell_type": "code",
      "metadata": {
        "colab": {
          "base_uri": "https://localhost:8080/"
        },
        "id": "RoXWQnsg8S_j",
        "outputId": "98844d37-d9f4-479c-a3a7-1e966d6c3bad"
      },
      "source": [
        "#Construct a randomly initialized matrix:\n",
        "x = torch.rand(5,3)\n",
        "x"
      ],
      "execution_count": 5,
      "outputs": [
        {
          "output_type": "execute_result",
          "data": {
            "text/plain": [
              "tensor([[0.1817, 0.5050, 0.8282],\n",
              "        [0.3897, 0.6792, 0.3658],\n",
              "        [0.9782, 0.2353, 0.2152],\n",
              "        [0.5091, 0.3078, 0.7201],\n",
              "        [0.1837, 0.3954, 0.8834]])"
            ]
          },
          "metadata": {
            "tags": []
          },
          "execution_count": 5
        }
      ]
    },
    {
      "cell_type": "code",
      "metadata": {
        "colab": {
          "base_uri": "https://localhost:8080/"
        },
        "id": "O85PlejW8ddL",
        "outputId": "05533d57-a9c8-4ed0-ed77-d6029673b972"
      },
      "source": [
        "#Construct a matrix filled zeros and of dtype long:\n",
        "x = torch.zeros(5,3, dtype=torch.long)\n",
        "x"
      ],
      "execution_count": 7,
      "outputs": [
        {
          "output_type": "execute_result",
          "data": {
            "text/plain": [
              "tensor([[0, 0, 0],\n",
              "        [0, 0, 0],\n",
              "        [0, 0, 0],\n",
              "        [0, 0, 0],\n",
              "        [0, 0, 0]])"
            ]
          },
          "metadata": {
            "tags": []
          },
          "execution_count": 7
        }
      ]
    },
    {
      "cell_type": "code",
      "metadata": {
        "colab": {
          "base_uri": "https://localhost:8080/"
        },
        "id": "BA6HJ9PH8diC",
        "outputId": "31f66a40-d3d9-4412-dabf-c844945440e6"
      },
      "source": [
        "#Construct a tensor directly from data:\n",
        "x = torch.tensor([5,3])\n",
        "x"
      ],
      "execution_count": 9,
      "outputs": [
        {
          "output_type": "execute_result",
          "data": {
            "text/plain": [
              "tensor([5, 3])"
            ]
          },
          "metadata": {
            "tags": []
          },
          "execution_count": 9
        }
      ]
    },
    {
      "cell_type": "code",
      "metadata": {
        "colab": {
          "base_uri": "https://localhost:8080/"
        },
        "id": "a0cmah1d8dlR",
        "outputId": "b9d1eb3d-e6e3-483f-a8fe-3c45bbc3baed"
      },
      "source": [
        "x = x.new_ones([5,3], dtype = torch.double)   #\n",
        "x"
      ],
      "execution_count": 10,
      "outputs": [
        {
          "output_type": "execute_result",
          "data": {
            "text/plain": [
              "tensor([[1., 1., 1.],\n",
              "        [1., 1., 1.],\n",
              "        [1., 1., 1.],\n",
              "        [1., 1., 1.],\n",
              "        [1., 1., 1.]], dtype=torch.float64)"
            ]
          },
          "metadata": {
            "tags": []
          },
          "execution_count": 10
        }
      ]
    },
    {
      "cell_type": "code",
      "metadata": {
        "colab": {
          "base_uri": "https://localhost:8080/"
        },
        "id": "fUOl_Xm38doI",
        "outputId": "d764010d-bbd5-4564-f8d3-8f2283f31677"
      },
      "source": [
        "x=torch.randn_like(x, dtype=torch.float)\n",
        "x"
      ],
      "execution_count": 12,
      "outputs": [
        {
          "output_type": "execute_result",
          "data": {
            "text/plain": [
              "tensor([[ 0.5058, -2.1677, -0.2924],\n",
              "        [-0.7803,  0.1318,  0.0054],\n",
              "        [ 1.0421,  0.3767, -0.3475],\n",
              "        [-0.8158, -0.9442,  1.2324],\n",
              "        [ 1.4268,  0.2172, -0.9948]])"
            ]
          },
          "metadata": {
            "tags": []
          },
          "execution_count": 12
        }
      ]
    },
    {
      "cell_type": "code",
      "metadata": {
        "colab": {
          "base_uri": "https://localhost:8080/"
        },
        "id": "PDOmLifq8dq6",
        "outputId": "744127d6-2327-4abf-dcca-46677a6abb40"
      },
      "source": [
        "print(x.size())"
      ],
      "execution_count": 13,
      "outputs": [
        {
          "output_type": "stream",
          "text": [
            "torch.Size([5, 3])\n"
          ],
          "name": "stdout"
        }
      ]
    }
  ]
}